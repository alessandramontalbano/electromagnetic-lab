{
 "cells": [
  {
   "cell_type": "markdown",
   "id": "c6ee243e",
   "metadata": {},
   "source": [
    "# Electromagnetism Lab"
   ]
  },
  {
   "cell_type": "code",
   "execution_count": 1,
   "id": "a22a84e0",
   "metadata": {},
   "outputs": [],
   "source": [
    "import pandas as pd\n",
    "import numpy as np\n",
    "import matplotlib.pyplot as plt\n",
    "import matplotlib.ticker as plticker\n",
    "import matplotlib\n",
    "from scipy import optimize\n",
    "from statistics import stdev, pstdev\n",
    "from IPython.display import display, Math\n",
    "import matplotlib.patches as patches\n",
    "\n",
    "plt.style.use('seaborn-whitegrid')\n",
    "matplotlib.rcParams.update({'errorbar.capsize': 3})\n",
    "%precision 20\n",
    "np.set_printoptions(suppress=True) "
   ]
  },
  {
   "cell_type": "markdown",
   "id": "79306294",
   "metadata": {},
   "source": [
    "### Useful functions"
   ]
  },
  {
   "cell_type": "code",
   "execution_count": 3,
   "id": "228a6f36",
   "metadata": {},
   "outputs": [],
   "source": [
    "def iterative_regression(x, y, x_err, y_err):\n",
    "    n = np.shape(y)[0]\n",
    "    weights_ = np.ones(n)\n",
    "    popt, pcov = optimize.curve_fit(func, x, y,sigma = y_err, p0=(0,1))\n",
    "    A,B = popt\n",
    "    B_new = 100\n",
    "    i = 1\n",
    "    \n",
    "    while np.abs(B-B_new)> 0.0001:\n",
    "        i = i+1\n",
    "        B = B_new\n",
    "        y_err_tot = np.sqrt(y_err**2+(B_new**2)*x_err**2)\n",
    "        #weighted regression\n",
    "        popt, pcov = optimize.curve_fit(func, x, y,sigma = y_err_tot,p0=(0,1))\n",
    "        A, B_new = popt\n",
    "    sigma_A, sigma_B = np.sqrt(np.diag(pcov))\n",
    "    print((\"n.of iterations: %g\")%(i))\n",
    "    print((\"A: %.5f, B: %.5f, sigma_A: %.5f, sigma_B: %.5f\")%(A, B_new,sigma_A, sigma_B))\n",
    "    \n",
    "    return A, B_new, sigma_B, y_err_tot,n"
   ]
  },
  {
   "cell_type": "code",
   "execution_count": 4,
   "id": "b72936e9",
   "metadata": {},
   "outputs": [],
   "source": [
    "def func(x,A, B):\n",
    "    return A+B*x"
   ]
  },
  {
   "cell_type": "markdown",
   "id": "3f81253e",
   "metadata": {},
   "source": [
    "## First part"
   ]
  },
  {
   "cell_type": "code",
   "execution_count": 5,
   "id": "535ec2c9",
   "metadata": {},
   "outputs": [],
   "source": [
    "g = 0.0098"
   ]
  },
  {
   "cell_type": "code",
   "execution_count": 6,
   "id": "69eae8d0",
   "metadata": {},
   "outputs": [
    {
     "data": {
      "text/html": [
       "<div>\n",
       "<style scoped>\n",
       "    .dataframe tbody tr th:only-of-type {\n",
       "        vertical-align: middle;\n",
       "    }\n",
       "\n",
       "    .dataframe tbody tr th {\n",
       "        vertical-align: top;\n",
       "    }\n",
       "\n",
       "    .dataframe thead th {\n",
       "        text-align: right;\n",
       "    }\n",
       "</style>\n",
       "<table border=\"1\" class=\"dataframe\">\n",
       "  <thead>\n",
       "    <tr style=\"text-align: right;\">\n",
       "      <th></th>\n",
       "      <th>Corrente</th>\n",
       "      <th>errore_C</th>\n",
       "      <th>M_1</th>\n",
       "      <th>M_2</th>\n",
       "      <th>M_3</th>\n",
       "      <th>M_4</th>\n",
       "      <th>M_5</th>\n",
       "      <th>errlett_M</th>\n",
       "    </tr>\n",
       "  </thead>\n",
       "  <tbody>\n",
       "    <tr>\n",
       "      <th>0</th>\n",
       "      <td>0.0</td>\n",
       "      <td>0.00</td>\n",
       "      <td>164.030</td>\n",
       "      <td>164.010</td>\n",
       "      <td>164.06</td>\n",
       "      <td>164.040</td>\n",
       "      <td>164.020</td>\n",
       "      <td>0.01</td>\n",
       "    </tr>\n",
       "    <tr>\n",
       "      <th>1</th>\n",
       "      <td>0.5</td>\n",
       "      <td>0.15</td>\n",
       "      <td>164.360</td>\n",
       "      <td>164.365</td>\n",
       "      <td>164.42</td>\n",
       "      <td>164.380</td>\n",
       "      <td>164.385</td>\n",
       "      <td>0.01</td>\n",
       "    </tr>\n",
       "    <tr>\n",
       "      <th>2</th>\n",
       "      <td>1.0</td>\n",
       "      <td>0.15</td>\n",
       "      <td>164.850</td>\n",
       "      <td>164.800</td>\n",
       "      <td>164.87</td>\n",
       "      <td>164.820</td>\n",
       "      <td>164.790</td>\n",
       "      <td>0.01</td>\n",
       "    </tr>\n",
       "    <tr>\n",
       "      <th>3</th>\n",
       "      <td>1.5</td>\n",
       "      <td>0.15</td>\n",
       "      <td>165.290</td>\n",
       "      <td>165.240</td>\n",
       "      <td>165.31</td>\n",
       "      <td>165.320</td>\n",
       "      <td>165.270</td>\n",
       "      <td>0.01</td>\n",
       "    </tr>\n",
       "    <tr>\n",
       "      <th>4</th>\n",
       "      <td>2.0</td>\n",
       "      <td>0.15</td>\n",
       "      <td>165.780</td>\n",
       "      <td>165.740</td>\n",
       "      <td>165.83</td>\n",
       "      <td>165.850</td>\n",
       "      <td>165.730</td>\n",
       "      <td>0.01</td>\n",
       "    </tr>\n",
       "    <tr>\n",
       "      <th>5</th>\n",
       "      <td>2.5</td>\n",
       "      <td>0.15</td>\n",
       "      <td>166.215</td>\n",
       "      <td>166.250</td>\n",
       "      <td>166.28</td>\n",
       "      <td>166.235</td>\n",
       "      <td>166.270</td>\n",
       "      <td>0.01</td>\n",
       "    </tr>\n",
       "    <tr>\n",
       "      <th>6</th>\n",
       "      <td>3.0</td>\n",
       "      <td>0.15</td>\n",
       "      <td>166.760</td>\n",
       "      <td>166.730</td>\n",
       "      <td>166.74</td>\n",
       "      <td>166.800</td>\n",
       "      <td>166.720</td>\n",
       "      <td>0.01</td>\n",
       "    </tr>\n",
       "    <tr>\n",
       "      <th>7</th>\n",
       "      <td>3.5</td>\n",
       "      <td>0.15</td>\n",
       "      <td>167.180</td>\n",
       "      <td>167.180</td>\n",
       "      <td>167.20</td>\n",
       "      <td>167.210</td>\n",
       "      <td>167.210</td>\n",
       "      <td>0.01</td>\n",
       "    </tr>\n",
       "    <tr>\n",
       "      <th>8</th>\n",
       "      <td>4.0</td>\n",
       "      <td>0.15</td>\n",
       "      <td>167.695</td>\n",
       "      <td>167.620</td>\n",
       "      <td>167.65</td>\n",
       "      <td>167.700</td>\n",
       "      <td>167.660</td>\n",
       "      <td>0.01</td>\n",
       "    </tr>\n",
       "    <tr>\n",
       "      <th>9</th>\n",
       "      <td>4.5</td>\n",
       "      <td>0.15</td>\n",
       "      <td>168.120</td>\n",
       "      <td>168.050</td>\n",
       "      <td>168.13</td>\n",
       "      <td>168.110</td>\n",
       "      <td>168.080</td>\n",
       "      <td>0.01</td>\n",
       "    </tr>\n",
       "  </tbody>\n",
       "</table>\n",
       "</div>"
      ],
      "text/plain": [
       "   Corrente  errore_C      M_1      M_2     M_3      M_4      M_5  errlett_M\n",
       "0       0.0      0.00  164.030  164.010  164.06  164.040  164.020       0.01\n",
       "1       0.5      0.15  164.360  164.365  164.42  164.380  164.385       0.01\n",
       "2       1.0      0.15  164.850  164.800  164.87  164.820  164.790       0.01\n",
       "3       1.5      0.15  165.290  165.240  165.31  165.320  165.270       0.01\n",
       "4       2.0      0.15  165.780  165.740  165.83  165.850  165.730       0.01\n",
       "5       2.5      0.15  166.215  166.250  166.28  166.235  166.270       0.01\n",
       "6       3.0      0.15  166.760  166.730  166.74  166.800  166.720       0.01\n",
       "7       3.5      0.15  167.180  167.180  167.20  167.210  167.210       0.01\n",
       "8       4.0      0.15  167.695  167.620  167.65  167.700  167.660       0.01\n",
       "9       4.5      0.15  168.120  168.050  168.13  168.110  168.080       0.01"
      ]
     },
     "execution_count": 6,
     "metadata": {},
     "output_type": "execute_result"
    }
   ],
   "source": [
    "df_1 = pd.read_csv('EM-parte1.txt',delimiter='\\t')\n",
    "df_2 = pd.read_csv('EM-parte2.txt',delimiter='\\t')\n",
    "df_1"
   ]
  },
  {
   "cell_type": "code",
   "execution_count": 7,
   "id": "1e77f599",
   "metadata": {},
   "outputs": [
    {
     "data": {
      "text/plain": [
       "array([164.03 , 164.01 , 164.06 , 164.04 , 164.02 , 164.035, 164.055,\n",
       "       164.04 , 164.04 , 164.03 ])"
      ]
     },
     "execution_count": 7,
     "metadata": {},
     "output_type": "execute_result"
    }
   ],
   "source": [
    "m0_values = np.concatenate((df_1.iloc[0,2:7].values,df_2.iloc[0,2:7].values))\n",
    "m0_values"
   ]
  },
  {
   "cell_type": "code",
   "execution_count": 1,
   "id": "5e0d8455",
   "metadata": {},
   "outputs": [
    {
     "ename": "NameError",
     "evalue": "name 'np' is not defined",
     "output_type": "error",
     "traceback": [
      "\u001b[1;31m---------------------------------------------------------------------------\u001b[0m",
      "\u001b[1;31mNameError\u001b[0m                                 Traceback (most recent call last)",
      "\u001b[1;32m~\\AppData\\Local\\Temp/ipykernel_21188/51451084.py\u001b[0m in \u001b[0;36m<module>\u001b[1;34m\u001b[0m\n\u001b[1;32m----> 1\u001b[1;33m \u001b[0mw_mean\u001b[0m \u001b[1;33m=\u001b[0m \u001b[0mnp\u001b[0m\u001b[1;33m.\u001b[0m\u001b[0mround\u001b[0m\u001b[1;33m(\u001b[0m\u001b[0mm0_values\u001b[0m\u001b[1;33m.\u001b[0m\u001b[0mmean\u001b[0m\u001b[1;33m(\u001b[0m\u001b[1;33m)\u001b[0m\u001b[1;33m,\u001b[0m\u001b[1;36m3\u001b[0m\u001b[1;33m)\u001b[0m\u001b[1;33m\u001b[0m\u001b[1;33m\u001b[0m\u001b[0m\n\u001b[0m\u001b[0;32m      2\u001b[0m \u001b[0mw_err\u001b[0m \u001b[1;33m=\u001b[0m \u001b[0mnp\u001b[0m\u001b[1;33m.\u001b[0m\u001b[0mround\u001b[0m\u001b[1;33m(\u001b[0m\u001b[0mstdev\u001b[0m\u001b[1;33m(\u001b[0m\u001b[0mm0_values\u001b[0m\u001b[1;33m)\u001b[0m\u001b[1;33m,\u001b[0m\u001b[1;36m3\u001b[0m\u001b[1;33m)\u001b[0m \u001b[1;31m#std of the sample\u001b[0m\u001b[1;33m\u001b[0m\u001b[1;33m\u001b[0m\u001b[0m\n\u001b[0;32m      3\u001b[0m \u001b[1;33m\u001b[0m\u001b[0m\n\u001b[0;32m      4\u001b[0m \u001b[0mprint\u001b[0m\u001b[1;33m(\u001b[0m\u001b[1;33m(\u001b[0m\u001b[1;34m\"The magnet weight is %.3f +- %.3f\"\u001b[0m\u001b[1;33m)\u001b[0m\u001b[1;33m%\u001b[0m\u001b[1;33m(\u001b[0m\u001b[0mw_mean\u001b[0m\u001b[1;33m,\u001b[0m\u001b[0mw_err\u001b[0m\u001b[1;33m*\u001b[0m\u001b[1;36m3\u001b[0m\u001b[1;33m)\u001b[0m\u001b[1;33m)\u001b[0m\u001b[1;33m\u001b[0m\u001b[1;33m\u001b[0m\u001b[0m\n",
      "\u001b[1;31mNameError\u001b[0m: name 'np' is not defined"
     ]
    }
   ],
   "source": [
    "w_mean = np.round(m0_values.mean(),3)\n",
    "w_err = np.round(stdev(m0_values),3) #std of the sample\n",
    "\n",
    "print((\"The magnet weight is %.3f +- %.3f\")%(w_mean,w_err*3))"
   ]
  },
  {
   "cell_type": "code",
   "execution_count": 9,
   "id": "3d500f66",
   "metadata": {},
   "outputs": [],
   "source": [
    "#convertiamo in Newton\n",
    "df_1_new = df_1.copy()\n",
    "df_1_new.iloc[:,2:] = df_1_new.iloc[:,2:]*g\n",
    "w_mean = w_mean*g #peso in netwon del magnete\n",
    "w_err = w_err*g"
   ]
  },
  {
   "cell_type": "code",
   "execution_count": 10,
   "id": "327be10f",
   "metadata": {},
   "outputs": [],
   "source": [
    "df_1_new['y'] = np.round((df_1_new.iloc[:,2:7]-w_mean).mean(axis = 1).values,5)\n",
    "\n",
    "y_err = np.zeros(df_1_new.shape[0])\n",
    "for i in range(df_1_new.shape[0]):\n",
    "    t = df_1_new.iloc[i:i+1,2:7].values - w_mean\n",
    "    y_err[i] = stdev([item for sublist in t for item in sublist])\n",
    "df_1_new['y_err'] = y_err*3"
   ]
  },
  {
   "cell_type": "code",
   "execution_count": 11,
   "id": "73597bac",
   "metadata": {},
   "outputs": [
    {
     "data": {
      "text/html": [
       "<div>\n",
       "<style scoped>\n",
       "    .dataframe tbody tr th:only-of-type {\n",
       "        vertical-align: middle;\n",
       "    }\n",
       "\n",
       "    .dataframe tbody tr th {\n",
       "        vertical-align: top;\n",
       "    }\n",
       "\n",
       "    .dataframe thead th {\n",
       "        text-align: right;\n",
       "    }\n",
       "</style>\n",
       "<table border=\"1\" class=\"dataframe\">\n",
       "  <thead>\n",
       "    <tr style=\"text-align: right;\">\n",
       "      <th></th>\n",
       "      <th>Corrente</th>\n",
       "      <th>errore_C</th>\n",
       "      <th>y</th>\n",
       "      <th>y_err</th>\n",
       "    </tr>\n",
       "  </thead>\n",
       "  <tbody>\n",
       "    <tr>\n",
       "      <th>1</th>\n",
       "      <td>0.5</td>\n",
       "      <td>0.15</td>\n",
       "      <td>0.00339</td>\n",
       "      <td>0.000694</td>\n",
       "    </tr>\n",
       "    <tr>\n",
       "      <th>2</th>\n",
       "      <td>1.0</td>\n",
       "      <td>0.15</td>\n",
       "      <td>0.00774</td>\n",
       "      <td>0.000988</td>\n",
       "    </tr>\n",
       "    <tr>\n",
       "      <th>3</th>\n",
       "      <td>1.5</td>\n",
       "      <td>0.15</td>\n",
       "      <td>0.01225</td>\n",
       "      <td>0.000944</td>\n",
       "    </tr>\n",
       "    <tr>\n",
       "      <th>4</th>\n",
       "      <td>2.0</td>\n",
       "      <td>0.15</td>\n",
       "      <td>0.01715</td>\n",
       "      <td>0.001564</td>\n",
       "    </tr>\n",
       "    <tr>\n",
       "      <th>5</th>\n",
       "      <td>2.5</td>\n",
       "      <td>0.15</td>\n",
       "      <td>0.02170</td>\n",
       "      <td>0.000771</td>\n",
       "    </tr>\n",
       "    <tr>\n",
       "      <th>6</th>\n",
       "      <td>3.0</td>\n",
       "      <td>0.15</td>\n",
       "      <td>0.02660</td>\n",
       "      <td>0.000930</td>\n",
       "    </tr>\n",
       "    <tr>\n",
       "      <th>7</th>\n",
       "      <td>3.5</td>\n",
       "      <td>0.15</td>\n",
       "      <td>0.03097</td>\n",
       "      <td>0.000446</td>\n",
       "    </tr>\n",
       "    <tr>\n",
       "      <th>8</th>\n",
       "      <td>4.0</td>\n",
       "      <td>0.15</td>\n",
       "      <td>0.03556</td>\n",
       "      <td>0.000975</td>\n",
       "    </tr>\n",
       "    <tr>\n",
       "      <th>9</th>\n",
       "      <td>4.5</td>\n",
       "      <td>0.15</td>\n",
       "      <td>0.03981</td>\n",
       "      <td>0.000962</td>\n",
       "    </tr>\n",
       "  </tbody>\n",
       "</table>\n",
       "</div>"
      ],
      "text/plain": [
       "   Corrente  errore_C        y     y_err\n",
       "1       0.5      0.15  0.00339  0.000694\n",
       "2       1.0      0.15  0.00774  0.000988\n",
       "3       1.5      0.15  0.01225  0.000944\n",
       "4       2.0      0.15  0.01715  0.001564\n",
       "5       2.5      0.15  0.02170  0.000771\n",
       "6       3.0      0.15  0.02660  0.000930\n",
       "7       3.5      0.15  0.03097  0.000446\n",
       "8       4.0      0.15  0.03556  0.000975\n",
       "9       4.5      0.15  0.03981  0.000962"
      ]
     },
     "execution_count": 11,
     "metadata": {},
     "output_type": "execute_result"
    }
   ],
   "source": [
    "df_1_new = df_1_new.drop(columns=['M_1','M_2','M_3','M_4','M_5','errlett_M'])\n",
    "df_1_new = df_1_new.iloc[1:,:]\n",
    "df_1_new"
   ]
  },
  {
   "cell_type": "code",
   "execution_count": 12,
   "id": "a46913bf",
   "metadata": {
    "scrolled": false
   },
   "outputs": [
    {
     "name": "stdout",
     "output_type": "stream",
     "text": [
      "n.of iterations: 3\n",
      "A: -0.00131, B: 0.00920, sigma_A: 0.00014, sigma_B: 0.00005\n"
     ]
    },
    {
     "data": {
      "image/png": "[encoded data removed]",
      "text/plain": [
       "<Figure size 1080x432 with 1 Axes>"
      ]
     },
     "metadata": {},
     "output_type": "display_data"
    }
   ],
   "source": [
    "A, B,sigma_B, y_err_tot,n = iterative_regression(df_1_new['Corrente'].values,\n",
    "                                               df_1_new['y'].values,\n",
    "                                               df_1_new['errore_C'].values, \n",
    "                                               df_1_new['y_err'].values)\n",
    "#plot\n",
    "fig, ax = plt.subplots(figsize=(15, 6))\n",
    "X_fit = np.arange(0, df_1_new['Corrente'].values.max()+0.5, 0.001).reshape(-1, 1)\n",
    "Y_fit =A+ B*X_fit\n",
    "\n",
    "    \n",
    "plt.errorbar(df_1_new['Corrente'].values,df_1_new['y'].values, xerr = df_1_new['errore_C'].values, \n",
    "             yerr =  df_1_new['y_err'].values,linestyle = \"None\", fmt='.k',label='dati $y_i$')\n",
    "plt.plot(X_fit, Y_fit, '-g',linewidth = 0.5, label='fit $f(x_i)$')\n",
    "plt.xlim(0, df_1_new['Corrente'].values.max()+0.5)\n",
    "plt.ylim(-0.001, df_1_new['y'].values.max()+0.012)\n",
    "plt.xlabel('Corrente [A]', fontsize =20)\n",
    "ax.tick_params(axis = 'both', which = 'major', labelsize = 20)\n",
    "plt.ylabel('Forza [N]', fontsize = 20)\n",
    "plt.legend();\n",
    "plt.show()"
   ]
  },
  {
   "cell_type": "markdown",
   "id": "f074b78d",
   "metadata": {},
   "source": [
    "Calcoliamo ora F"
   ]
  },
  {
   "cell_type": "code",
   "execution_count": 13,
   "id": "3eb7a3e6",
   "metadata": {},
   "outputs": [
    {
     "data": {
      "text/plain": [
       "0.0001514853501625298"
      ]
     },
     "execution_count": 13,
     "metadata": {},
     "output_type": "execute_result"
    }
   ],
   "source": [
    "l = 8.4/100\n",
    "delta_l = 0.2/100\n",
    "delta_B = sigma_B*3\n",
    "delta_B"
   ]
  },
  {
   "cell_type": "code",
   "execution_count": 2,
   "id": "f1da475e",
   "metadata": {},
   "outputs": [
    {
     "ename": "NameError",
     "evalue": "name 'np' is not defined",
     "output_type": "error",
     "traceback": [
      "\u001b[1;31m---------------------------------------------------------------------------\u001b[0m",
      "\u001b[1;31mNameError\u001b[0m                                 Traceback (most recent call last)",
      "\u001b[1;32m~\\AppData\\Local\\Temp/ipykernel_21188/1599397173.py\u001b[0m in \u001b[0;36m<module>\u001b[1;34m\u001b[0m\n\u001b[1;32m----> 1\u001b[1;33m \u001b[0mprint\u001b[0m\u001b[1;33m(\u001b[0m\u001b[1;33m(\u001b[0m\u001b[1;34m\"The magnetic field computed in the first part is: (%.5f +- %.5f) T\"\u001b[0m\u001b[1;33m)\u001b[0m\u001b[1;33m%\u001b[0m\u001b[1;33m(\u001b[0m\u001b[0mnp\u001b[0m\u001b[1;33m.\u001b[0m\u001b[0mround\u001b[0m\u001b[1;33m(\u001b[0m\u001b[0mB\u001b[0m\u001b[1;33m/\u001b[0m\u001b[0ml\u001b[0m\u001b[1;33m,\u001b[0m\u001b[1;36m5\u001b[0m\u001b[1;33m)\u001b[0m\u001b[1;33m,\u001b[0m\u001b[0mnp\u001b[0m\u001b[1;33m.\u001b[0m\u001b[0mround\u001b[0m\u001b[1;33m(\u001b[0m\u001b[0mB\u001b[0m\u001b[1;33m/\u001b[0m\u001b[0ml\u001b[0m\u001b[1;33m,\u001b[0m\u001b[1;36m5\u001b[0m\u001b[1;33m)\u001b[0m\u001b[1;33m*\u001b[0m\u001b[1;33m(\u001b[0m\u001b[0mdelta_B\u001b[0m\u001b[1;33m/\u001b[0m\u001b[0mB\u001b[0m \u001b[1;33m+\u001b[0m \u001b[0mdelta_l\u001b[0m\u001b[1;33m/\u001b[0m\u001b[0ml\u001b[0m\u001b[1;33m)\u001b[0m\u001b[1;33m)\u001b[0m\u001b[1;33m)\u001b[0m\u001b[1;33m\u001b[0m\u001b[1;33m\u001b[0m\u001b[0m\n\u001b[0m",
      "\u001b[1;31mNameError\u001b[0m: name 'np' is not defined"
     ]
    }
   ],
   "source": [
    "print((\"The magnetic field computed in the first part is: (%.5f +- %.5f) T\")%(np.round(B/l,5),np.round(B/l,5)*(delta_B/B + delta_l/l)))"
   ]
  },
  {
   "cell_type": "markdown",
   "id": "a9ab0ee4",
   "metadata": {},
   "source": [
    "## Second part"
   ]
  },
  {
   "cell_type": "code",
   "execution_count": 15,
   "id": "837fe70e",
   "metadata": {},
   "outputs": [
    {
     "data": {
      "text/html": [
       "<div>\n",
       "<style scoped>\n",
       "    .dataframe tbody tr th:only-of-type {\n",
       "        vertical-align: middle;\n",
       "    }\n",
       "\n",
       "    .dataframe tbody tr th {\n",
       "        vertical-align: top;\n",
       "    }\n",
       "\n",
       "    .dataframe thead th {\n",
       "        text-align: right;\n",
       "    }\n",
       "</style>\n",
       "<table border=\"1\" class=\"dataframe\">\n",
       "  <thead>\n",
       "    <tr style=\"text-align: right;\">\n",
       "      <th></th>\n",
       "      <th>L</th>\n",
       "      <th>errore_L</th>\n",
       "      <th>M_1</th>\n",
       "      <th>M_2</th>\n",
       "      <th>M_3</th>\n",
       "      <th>M_4</th>\n",
       "      <th>M_5</th>\n",
       "      <th>errlett_M</th>\n",
       "    </tr>\n",
       "  </thead>\n",
       "  <tbody>\n",
       "    <tr>\n",
       "      <th>0</th>\n",
       "      <td>0.0</td>\n",
       "      <td>0.0</td>\n",
       "      <td>164.035</td>\n",
       "      <td>164.055</td>\n",
       "      <td>164.04</td>\n",
       "      <td>164.04</td>\n",
       "      <td>164.03</td>\n",
       "      <td>0.01</td>\n",
       "    </tr>\n",
       "    <tr>\n",
       "      <th>1</th>\n",
       "      <td>1.2</td>\n",
       "      <td>0.2</td>\n",
       "      <td>164.380</td>\n",
       "      <td>164.390</td>\n",
       "      <td>164.38</td>\n",
       "      <td>164.37</td>\n",
       "      <td>164.39</td>\n",
       "      <td>0.01</td>\n",
       "    </tr>\n",
       "    <tr>\n",
       "      <th>2</th>\n",
       "      <td>2.2</td>\n",
       "      <td>0.2</td>\n",
       "      <td>164.690</td>\n",
       "      <td>164.710</td>\n",
       "      <td>164.71</td>\n",
       "      <td>164.72</td>\n",
       "      <td>164.69</td>\n",
       "      <td>0.01</td>\n",
       "    </tr>\n",
       "    <tr>\n",
       "      <th>3</th>\n",
       "      <td>3.2</td>\n",
       "      <td>0.2</td>\n",
       "      <td>165.050</td>\n",
       "      <td>165.070</td>\n",
       "      <td>165.08</td>\n",
       "      <td>165.06</td>\n",
       "      <td>165.08</td>\n",
       "      <td>0.01</td>\n",
       "    </tr>\n",
       "    <tr>\n",
       "      <th>4</th>\n",
       "      <td>4.2</td>\n",
       "      <td>0.2</td>\n",
       "      <td>165.450</td>\n",
       "      <td>165.430</td>\n",
       "      <td>165.44</td>\n",
       "      <td>165.42</td>\n",
       "      <td>165.43</td>\n",
       "      <td>0.01</td>\n",
       "    </tr>\n",
       "    <tr>\n",
       "      <th>5</th>\n",
       "      <td>6.4</td>\n",
       "      <td>0.4</td>\n",
       "      <td>166.080</td>\n",
       "      <td>166.070</td>\n",
       "      <td>166.08</td>\n",
       "      <td>166.06</td>\n",
       "      <td>166.07</td>\n",
       "      <td>0.01</td>\n",
       "    </tr>\n",
       "    <tr>\n",
       "      <th>6</th>\n",
       "      <td>8.4</td>\n",
       "      <td>0.4</td>\n",
       "      <td>166.790</td>\n",
       "      <td>166.760</td>\n",
       "      <td>166.78</td>\n",
       "      <td>166.75</td>\n",
       "      <td>166.76</td>\n",
       "      <td>0.01</td>\n",
       "    </tr>\n",
       "  </tbody>\n",
       "</table>\n",
       "</div>"
      ],
      "text/plain": [
       "     L  errore_L      M_1      M_2     M_3     M_4     M_5  errlett_M\n",
       "0  0.0       0.0  164.035  164.055  164.04  164.04  164.03       0.01\n",
       "1  1.2       0.2  164.380  164.390  164.38  164.37  164.39       0.01\n",
       "2  2.2       0.2  164.690  164.710  164.71  164.72  164.69       0.01\n",
       "3  3.2       0.2  165.050  165.070  165.08  165.06  165.08       0.01\n",
       "4  4.2       0.2  165.450  165.430  165.44  165.42  165.43       0.01\n",
       "5  6.4       0.4  166.080  166.070  166.08  166.06  166.07       0.01\n",
       "6  8.4       0.4  166.790  166.760  166.78  166.75  166.76       0.01"
      ]
     },
     "execution_count": 15,
     "metadata": {},
     "output_type": "execute_result"
    }
   ],
   "source": [
    "df_2 = pd.read_csv('EM-parte2.txt',delimiter='\\t')\n",
    "df_2"
   ]
  },
  {
   "cell_type": "code",
   "execution_count": 16,
   "id": "36322f0e",
   "metadata": {},
   "outputs": [
    {
     "data": {
      "text/html": [
       "<div>\n",
       "<style scoped>\n",
       "    .dataframe tbody tr th:only-of-type {\n",
       "        vertical-align: middle;\n",
       "    }\n",
       "\n",
       "    .dataframe tbody tr th {\n",
       "        vertical-align: top;\n",
       "    }\n",
       "\n",
       "    .dataframe thead th {\n",
       "        text-align: right;\n",
       "    }\n",
       "</style>\n",
       "<table border=\"1\" class=\"dataframe\">\n",
       "  <thead>\n",
       "    <tr style=\"text-align: right;\">\n",
       "      <th></th>\n",
       "      <th>L</th>\n",
       "      <th>errore_L</th>\n",
       "      <th>M_1</th>\n",
       "      <th>M_2</th>\n",
       "      <th>M_3</th>\n",
       "      <th>M_4</th>\n",
       "      <th>M_5</th>\n",
       "      <th>errlett_M</th>\n",
       "    </tr>\n",
       "  </thead>\n",
       "  <tbody>\n",
       "    <tr>\n",
       "      <th>1</th>\n",
       "      <td>0.012</td>\n",
       "      <td>0.002</td>\n",
       "      <td>1.610924</td>\n",
       "      <td>1.611022</td>\n",
       "      <td>1.610924</td>\n",
       "      <td>1.610826</td>\n",
       "      <td>1.611022</td>\n",
       "      <td>0.000098</td>\n",
       "    </tr>\n",
       "    <tr>\n",
       "      <th>2</th>\n",
       "      <td>0.022</td>\n",
       "      <td>0.002</td>\n",
       "      <td>1.613962</td>\n",
       "      <td>1.614158</td>\n",
       "      <td>1.614158</td>\n",
       "      <td>1.614256</td>\n",
       "      <td>1.613962</td>\n",
       "      <td>0.000098</td>\n",
       "    </tr>\n",
       "    <tr>\n",
       "      <th>3</th>\n",
       "      <td>0.032</td>\n",
       "      <td>0.002</td>\n",
       "      <td>1.617490</td>\n",
       "      <td>1.617686</td>\n",
       "      <td>1.617784</td>\n",
       "      <td>1.617588</td>\n",
       "      <td>1.617784</td>\n",
       "      <td>0.000098</td>\n",
       "    </tr>\n",
       "    <tr>\n",
       "      <th>4</th>\n",
       "      <td>0.042</td>\n",
       "      <td>0.002</td>\n",
       "      <td>1.621410</td>\n",
       "      <td>1.621214</td>\n",
       "      <td>1.621312</td>\n",
       "      <td>1.621116</td>\n",
       "      <td>1.621214</td>\n",
       "      <td>0.000098</td>\n",
       "    </tr>\n",
       "    <tr>\n",
       "      <th>5</th>\n",
       "      <td>0.064</td>\n",
       "      <td>0.004</td>\n",
       "      <td>1.627584</td>\n",
       "      <td>1.627486</td>\n",
       "      <td>1.627584</td>\n",
       "      <td>1.627388</td>\n",
       "      <td>1.627486</td>\n",
       "      <td>0.000098</td>\n",
       "    </tr>\n",
       "    <tr>\n",
       "      <th>6</th>\n",
       "      <td>0.084</td>\n",
       "      <td>0.004</td>\n",
       "      <td>1.634542</td>\n",
       "      <td>1.634248</td>\n",
       "      <td>1.634444</td>\n",
       "      <td>1.634150</td>\n",
       "      <td>1.634248</td>\n",
       "      <td>0.000098</td>\n",
       "    </tr>\n",
       "  </tbody>\n",
       "</table>\n",
       "</div>"
      ],
      "text/plain": [
       "       L  errore_L       M_1       M_2       M_3       M_4       M_5  \\\n",
       "1  0.012     0.002  1.610924  1.611022  1.610924  1.610826  1.611022   \n",
       "2  0.022     0.002  1.613962  1.614158  1.614158  1.614256  1.613962   \n",
       "3  0.032     0.002  1.617490  1.617686  1.617784  1.617588  1.617784   \n",
       "4  0.042     0.002  1.621410  1.621214  1.621312  1.621116  1.621214   \n",
       "5  0.064     0.004  1.627584  1.627486  1.627584  1.627388  1.627486   \n",
       "6  0.084     0.004  1.634542  1.634248  1.634444  1.634150  1.634248   \n",
       "\n",
       "   errlett_M  \n",
       "1   0.000098  \n",
       "2   0.000098  \n",
       "3   0.000098  \n",
       "4   0.000098  \n",
       "5   0.000098  \n",
       "6   0.000098  "
      ]
     },
     "execution_count": 16,
     "metadata": {},
     "output_type": "execute_result"
    }
   ],
   "source": [
    "#conversion in Newton\n",
    "df_2.iloc[:,2:] = df_2.iloc[:,2:]*g\n",
    "df_2.iloc[:,:2] = df_2.iloc[:,:2]/100\n",
    "df_2 = df_2.iloc[1:,:]\n",
    "df_2"
   ]
  },
  {
   "cell_type": "code",
   "execution_count": 17,
   "id": "1b136016",
   "metadata": {},
   "outputs": [
    {
     "name": "stderr",
     "output_type": "stream",
     "text": [
      "C:\\Users\\aless\\AppData\\Local\\Temp/ipykernel_32372/2242319543.py:1: SettingWithCopyWarning: \n",
      "A value is trying to be set on a copy of a slice from a DataFrame.\n",
      "Try using .loc[row_indexer,col_indexer] = value instead\n",
      "\n",
      "See the caveats in the documentation: https://pandas.pydata.org/pandas-docs/stable/user_guide/indexing.html#returning-a-view-versus-a-copy\n",
      "  df_2['y_2'] = np.round((df_2.iloc[:,2:7]-w_mean).mean(axis = 1).values,5)\n",
      "C:\\Users\\aless\\AppData\\Local\\Temp/ipykernel_32372/2242319543.py:9: SettingWithCopyWarning: \n",
      "A value is trying to be set on a copy of a slice from a DataFrame.\n",
      "Try using .loc[row_indexer,col_indexer] = value instead\n",
      "\n",
      "See the caveats in the documentation: https://pandas.pydata.org/pandas-docs/stable/user_guide/indexing.html#returning-a-view-versus-a-copy\n",
      "  df_2['y_err_2'] = y_err*3\n"
     ]
    }
   ],
   "source": [
    "df_2['y_2'] = np.round((df_2.iloc[:,2:7]-w_mean).mean(axis = 1).values,5)\n",
    "y_err = np.zeros(df_2.shape[0])\n",
    "for i in range(df_2.shape[0]):\n",
    "    t = df_2.iloc[i:i+1,2:7].values - w_mean\n",
    "    y_err[i] = stdev([item for sublist in t for item in sublist])\n",
    "df_2['y_err_2'] = y_err*3"
   ]
  },
  {
   "cell_type": "code",
   "execution_count": 18,
   "id": "e826dfb6",
   "metadata": {},
   "outputs": [
    {
     "data": {
      "text/html": [
       "<div>\n",
       "<style scoped>\n",
       "    .dataframe tbody tr th:only-of-type {\n",
       "        vertical-align: middle;\n",
       "    }\n",
       "\n",
       "    .dataframe tbody tr th {\n",
       "        vertical-align: top;\n",
       "    }\n",
       "\n",
       "    .dataframe thead th {\n",
       "        text-align: right;\n",
       "    }\n",
       "</style>\n",
       "<table border=\"1\" class=\"dataframe\">\n",
       "  <thead>\n",
       "    <tr style=\"text-align: right;\">\n",
       "      <th></th>\n",
       "      <th>L</th>\n",
       "      <th>errore_L</th>\n",
       "      <th>y_2</th>\n",
       "      <th>y_err_2</th>\n",
       "    </tr>\n",
       "  </thead>\n",
       "  <tbody>\n",
       "    <tr>\n",
       "      <th>1</th>\n",
       "      <td>0.012</td>\n",
       "      <td>0.002</td>\n",
       "      <td>0.00339</td>\n",
       "      <td>0.000246</td>\n",
       "    </tr>\n",
       "    <tr>\n",
       "      <th>2</th>\n",
       "      <td>0.022</td>\n",
       "      <td>0.002</td>\n",
       "      <td>0.00655</td>\n",
       "      <td>0.000394</td>\n",
       "    </tr>\n",
       "    <tr>\n",
       "      <th>3</th>\n",
       "      <td>0.032</td>\n",
       "      <td>0.002</td>\n",
       "      <td>0.01011</td>\n",
       "      <td>0.000383</td>\n",
       "    </tr>\n",
       "    <tr>\n",
       "      <th>4</th>\n",
       "      <td>0.042</td>\n",
       "      <td>0.002</td>\n",
       "      <td>0.01370</td>\n",
       "      <td>0.000335</td>\n",
       "    </tr>\n",
       "    <tr>\n",
       "      <th>5</th>\n",
       "      <td>0.064</td>\n",
       "      <td>0.004</td>\n",
       "      <td>0.01995</td>\n",
       "      <td>0.000246</td>\n",
       "    </tr>\n",
       "    <tr>\n",
       "      <th>6</th>\n",
       "      <td>0.084</td>\n",
       "      <td>0.004</td>\n",
       "      <td>0.02677</td>\n",
       "      <td>0.000483</td>\n",
       "    </tr>\n",
       "  </tbody>\n",
       "</table>\n",
       "</div>"
      ],
      "text/plain": [
       "       L  errore_L      y_2   y_err_2\n",
       "1  0.012     0.002  0.00339  0.000246\n",
       "2  0.022     0.002  0.00655  0.000394\n",
       "3  0.032     0.002  0.01011  0.000383\n",
       "4  0.042     0.002  0.01370  0.000335\n",
       "5  0.064     0.004  0.01995  0.000246\n",
       "6  0.084     0.004  0.02677  0.000483"
      ]
     },
     "execution_count": 18,
     "metadata": {},
     "output_type": "execute_result"
    }
   ],
   "source": [
    "df_2_new = df_2.drop(columns=['M_1', 'M_2','M_3','M_4','M_5','errlett_M'])\n",
    "df_2_new"
   ]
  },
  {
   "cell_type": "code",
   "execution_count": 20,
   "id": "b1876205",
   "metadata": {},
   "outputs": [
    {
     "name": "stdout",
     "output_type": "stream",
     "text": [
      "n.of iterations: 5\n",
      "A: -0.00043, B: 0.32645, sigma_A: 0.00026, sigma_B: 0.00693\n"
     ]
    },
    {
     "data": {
      "image/png": "[encoded data removed]",
      "text/plain": [
       "<Figure size 1080x432 with 1 Axes>"
      ]
     },
     "metadata": {},
     "output_type": "display_data"
    }
   ],
   "source": [
    "A_2, B_2, sigma_B_2, y_err_tot_2,n_2 = iterative_regression(df_2_new['L'].values,\n",
    "                                                        df_2_new['y_2'].values,\n",
    "                                                        df_2_new['errore_L'].values, \n",
    "                                                        df_2_new['y_err_2'].values)\n",
    "\n",
    "fig, ax = plt.subplots(figsize=(15, 6))\n",
    "X_fit_2 = np.arange(0, df_2_new['L'].values.max()+0.001, 0.001).reshape(-1, 1)\n",
    "Y_fit_2 = A_2 + B_2*X_fit_2\n",
    "    \n",
    "plt.errorbar(df_2_new['L'].values, df_2_new['y_2'].values, xerr = df_2_new['errore_L'].values, \n",
    "             yerr = df_2_new['y_err_2'].values, linestyle = \"None\", fmt='.k',label='dati $y_i$')\n",
    "plt.plot(X_fit_2, Y_fit_2, '-g',linewidth = 0.5, label='fit $f(x_i)$')\n",
    "plt.xlim(0, df_2_new['L'].values.max()+0.005)\n",
    "plt.ylim(-0.0005, df_2_new['y_2'].values.max()+0.004)\n",
    "plt.ylabel('Forza [N]', fontsize =20)\n",
    "ax.tick_params(axis = 'both', which = 'major', labelsize = 20)\n",
    "plt.xlabel('Lunghezza [m]', fontsize = 20)\n",
    "plt.legend();\n",
    "plt.show()"
   ]
  },
  {
   "cell_type": "code",
   "execution_count": 21,
   "id": "fec2f222",
   "metadata": {},
   "outputs": [],
   "source": [
    "C = 3\n",
    "delta_C = 0.15\n",
    "delta_B_2 = sigma_B_2*3"
   ]
  },
  {
   "cell_type": "code",
   "execution_count": 22,
   "id": "16b12c2c",
   "metadata": {},
   "outputs": [
    {
     "name": "stdout",
     "output_type": "stream",
     "text": [
      "Il campo magnetico calcolato nella II parte è: (0.10882 +- 0.01237) T\n"
     ]
    }
   ],
   "source": [
    "print((\"The magnetic field computed in the first part is: (%.5f +- %.5f) T\")%(np.round(B_2/C,5),np.round(B_2/C,5)*(delta_B_2/B_2 + delta_C/C)))"
   ]
  },
  {
   "cell_type": "markdown",
   "id": "79744983",
   "metadata": {},
   "source": [
    "### Scale calibration"
   ]
  },
  {
   "cell_type": "code",
   "execution_count": 23,
   "id": "202c3cdf",
   "metadata": {},
   "outputs": [],
   "source": [
    "x_3 = np.array([1.444,6.694,10.358,16.862,20,100,120])\n",
    "y_3 = np.array([1.4,6.7,10.36,16.86,19.98,100,119.97])\n",
    "y_err_3 = np.array([0.01,0.01,0.01,0.01,0.01,0.01,0.01]) \n",
    "n_3 = np.shape(x_3)[0]"
   ]
  },
  {
   "cell_type": "code",
   "execution_count": 24,
   "id": "98d4520d",
   "metadata": {},
   "outputs": [
    {
     "name": "stdout",
     "output_type": "stream",
     "text": [
      "n.of iterations: 3\n",
      "A: -0.01100, B: 0.99996, sigma_A: 0.01038, sigma_B: 0.00017\n"
     ]
    },
    {
     "data": {
      "image/png": "[encoded data removed]",
      "text/plain": [
       "<Figure size 1080x432 with 1 Axes>"
      ]
     },
     "metadata": {},
     "output_type": "display_data"
    }
   ],
   "source": [
    "A_3, B_3, sigma_B_3, y_err_tot_3,n_3 = iterative_regression(x_3,y_3,np.zeros(n_3),y_err_3)\n",
    "\n",
    "#plot\n",
    "fig, ax = plt.subplots(figsize=(15, 6))\n",
    "plt.errorbar(x_3, y_3, xerr = None, yerr = y_err_3,linestyle = \"None\", fmt='.k',label='dati $y_i$')\n",
    "\n",
    "X_fit_3 = np.arange(x_3.min(), x_3.max(), 0.001).reshape(-1, 1)\n",
    "Y_fit_3 = A_3 + B_3*X_fit_3\n",
    "\n",
    "plt.plot(X_fit_3, Y_fit_3, '-g',linewidth = 0.5,  label='fit $f(x_i)$')\n",
    "plt.xlim(-.1, x_3.max()+1)\n",
    "plt.ylim(-0.001, y_3.max()+2)\n",
    "plt.xlabel('Massa pesata (g)', fontsize =20)\n",
    "ax.tick_params(axis = 'both', which = 'major', labelsize = 20)\n",
    "plt.ylabel('Massa nominale (g)', fontsize = 20)\n",
    "plt.legend();\n",
    "plt.show()"
   ]
  },
  {
   "cell_type": "markdown",
   "id": "5b964e15",
   "metadata": {},
   "source": [
    "## Third part"
   ]
  },
  {
   "cell_type": "markdown",
   "id": "d83bbce8",
   "metadata": {},
   "source": [
    "Scipy provides a rather generic function (based on the Levenburg-Marquardt algorithm) via scipy.optimize.curve_fit to fit a given function to a given data set. The assumption is that we have been given a data set with points $x_{1}, x_{2}, ...x_{N}$ and corresponding function values $y_{i}$ and a dependence of $y_{i}$ on $x_{i}$ such that $y_{i}=f(x_{i},\\vec{p})$. We want to determine the vector of parameters $\\vec{p}=(p_{1},p_{2},...,p_{k})$ so that the sum of the residuals is as small as possible, i.e. minimizing the function:\n",
    "$r=\\sum_{i=1}^{N}(y_{i}-f(x_{i},\\vec{p}))^{2}$\n",
    "\n",
    "We then want to fit the function: $y = A cos(\\omega x)$, this python function will help us derive estimates for the parameters $A$ and $\\omega$"
   ]
  },
  {
   "cell_type": "code",
   "execution_count": 25,
   "id": "82498b5a",
   "metadata": {},
   "outputs": [
    {
     "data": {
      "text/html": [
       "<div>\n",
       "<style scoped>\n",
       "    .dataframe tbody tr th:only-of-type {\n",
       "        vertical-align: middle;\n",
       "    }\n",
       "\n",
       "    .dataframe tbody tr th {\n",
       "        vertical-align: top;\n",
       "    }\n",
       "\n",
       "    .dataframe thead th {\n",
       "        text-align: right;\n",
       "    }\n",
       "</style>\n",
       "<table border=\"1\" class=\"dataframe\">\n",
       "  <thead>\n",
       "    <tr style=\"text-align: right;\">\n",
       "      <th></th>\n",
       "      <th>angolo</th>\n",
       "      <th>massa</th>\n",
       "      <th>errore_angolo</th>\n",
       "      <th>errore_massa</th>\n",
       "    </tr>\n",
       "  </thead>\n",
       "  <tbody>\n",
       "    <tr>\n",
       "      <th>0</th>\n",
       "      <td>-90</td>\n",
       "      <td>70.780</td>\n",
       "      <td>1</td>\n",
       "      <td>0.03</td>\n",
       "    </tr>\n",
       "    <tr>\n",
       "      <th>1</th>\n",
       "      <td>-70</td>\n",
       "      <td>71.120</td>\n",
       "      <td>1</td>\n",
       "      <td>0.03</td>\n",
       "    </tr>\n",
       "    <tr>\n",
       "      <th>2</th>\n",
       "      <td>-50</td>\n",
       "      <td>71.430</td>\n",
       "      <td>1</td>\n",
       "      <td>0.03</td>\n",
       "    </tr>\n",
       "    <tr>\n",
       "      <th>3</th>\n",
       "      <td>-35</td>\n",
       "      <td>71.590</td>\n",
       "      <td>1</td>\n",
       "      <td>0.03</td>\n",
       "    </tr>\n",
       "    <tr>\n",
       "      <th>4</th>\n",
       "      <td>-10</td>\n",
       "      <td>71.720</td>\n",
       "      <td>1</td>\n",
       "      <td>0.03</td>\n",
       "    </tr>\n",
       "    <tr>\n",
       "      <th>5</th>\n",
       "      <td>0</td>\n",
       "      <td>71.735</td>\n",
       "      <td>1</td>\n",
       "      <td>0.03</td>\n",
       "    </tr>\n",
       "    <tr>\n",
       "      <th>6</th>\n",
       "      <td>20</td>\n",
       "      <td>71.670</td>\n",
       "      <td>1</td>\n",
       "      <td>0.03</td>\n",
       "    </tr>\n",
       "    <tr>\n",
       "      <th>7</th>\n",
       "      <td>40</td>\n",
       "      <td>71.500</td>\n",
       "      <td>1</td>\n",
       "      <td>0.03</td>\n",
       "    </tr>\n",
       "    <tr>\n",
       "      <th>8</th>\n",
       "      <td>60</td>\n",
       "      <td>71.260</td>\n",
       "      <td>1</td>\n",
       "      <td>0.03</td>\n",
       "    </tr>\n",
       "    <tr>\n",
       "      <th>9</th>\n",
       "      <td>75</td>\n",
       "      <td>71.030</td>\n",
       "      <td>1</td>\n",
       "      <td>0.03</td>\n",
       "    </tr>\n",
       "    <tr>\n",
       "      <th>10</th>\n",
       "      <td>90</td>\n",
       "      <td>70.770</td>\n",
       "      <td>1</td>\n",
       "      <td>0.03</td>\n",
       "    </tr>\n",
       "    <tr>\n",
       "      <th>11</th>\n",
       "      <td>-90</td>\n",
       "      <td>70.770</td>\n",
       "      <td>1</td>\n",
       "      <td>0.03</td>\n",
       "    </tr>\n",
       "    <tr>\n",
       "      <th>12</th>\n",
       "      <td>-70</td>\n",
       "      <td>70.470</td>\n",
       "      <td>1</td>\n",
       "      <td>0.03</td>\n",
       "    </tr>\n",
       "    <tr>\n",
       "      <th>13</th>\n",
       "      <td>-50</td>\n",
       "      <td>70.210</td>\n",
       "      <td>1</td>\n",
       "      <td>0.03</td>\n",
       "    </tr>\n",
       "    <tr>\n",
       "      <th>14</th>\n",
       "      <td>-30</td>\n",
       "      <td>69.980</td>\n",
       "      <td>1</td>\n",
       "      <td>0.03</td>\n",
       "    </tr>\n",
       "    <tr>\n",
       "      <th>15</th>\n",
       "      <td>0</td>\n",
       "      <td>69.820</td>\n",
       "      <td>1</td>\n",
       "      <td>0.03</td>\n",
       "    </tr>\n",
       "    <tr>\n",
       "      <th>16</th>\n",
       "      <td>15</td>\n",
       "      <td>69.860</td>\n",
       "      <td>1</td>\n",
       "      <td>0.03</td>\n",
       "    </tr>\n",
       "    <tr>\n",
       "      <th>17</th>\n",
       "      <td>30</td>\n",
       "      <td>69.950</td>\n",
       "      <td>1</td>\n",
       "      <td>0.03</td>\n",
       "    </tr>\n",
       "    <tr>\n",
       "      <th>18</th>\n",
       "      <td>50</td>\n",
       "      <td>70.150</td>\n",
       "      <td>1</td>\n",
       "      <td>0.03</td>\n",
       "    </tr>\n",
       "    <tr>\n",
       "      <th>19</th>\n",
       "      <td>70</td>\n",
       "      <td>70.430</td>\n",
       "      <td>1</td>\n",
       "      <td>0.03</td>\n",
       "    </tr>\n",
       "    <tr>\n",
       "      <th>20</th>\n",
       "      <td>90</td>\n",
       "      <td>70.770</td>\n",
       "      <td>1</td>\n",
       "      <td>0.03</td>\n",
       "    </tr>\n",
       "  </tbody>\n",
       "</table>\n",
       "</div>"
      ],
      "text/plain": [
       "    angolo   massa  errore_angolo  errore_massa\n",
       "0      -90  70.780              1          0.03\n",
       "1      -70  71.120              1          0.03\n",
       "2      -50  71.430              1          0.03\n",
       "3      -35  71.590              1          0.03\n",
       "4      -10  71.720              1          0.03\n",
       "5        0  71.735              1          0.03\n",
       "6       20  71.670              1          0.03\n",
       "7       40  71.500              1          0.03\n",
       "8       60  71.260              1          0.03\n",
       "9       75  71.030              1          0.03\n",
       "10      90  70.770              1          0.03\n",
       "11     -90  70.770              1          0.03\n",
       "12     -70  70.470              1          0.03\n",
       "13     -50  70.210              1          0.03\n",
       "14     -30  69.980              1          0.03\n",
       "15       0  69.820              1          0.03\n",
       "16      15  69.860              1          0.03\n",
       "17      30  69.950              1          0.03\n",
       "18      50  70.150              1          0.03\n",
       "19      70  70.430              1          0.03\n",
       "20      90  70.770              1          0.03"
      ]
     },
     "execution_count": 25,
     "metadata": {},
     "output_type": "execute_result"
    }
   ],
   "source": [
    "df_3 = pd.read_csv('EM-parte3.txt',delimiter='\\t')\n",
    "df_3"
   ]
  },
  {
   "cell_type": "code",
   "execution_count": 26,
   "id": "c9132355",
   "metadata": {},
   "outputs": [],
   "source": [
    "m0 = 70.81"
   ]
  },
  {
   "cell_type": "code",
   "execution_count": 27,
   "id": "2c199124",
   "metadata": {},
   "outputs": [],
   "source": [
    "x_data_1 = df_3['angolo'][:11] \n",
    "x_data_2 = df_3['angolo'][11:] \n",
    "y_data_1 = (df_3['massa'][:11] - m0)*g\n",
    "y_data_2 = (df_3['massa'][11:] - m0)*g\n",
    "y_data_1_err = df_3['errore_massa'][:11]*g\n",
    "y_data_2_err = df_3['errore_massa'][11:]*g\n",
    "x_data_1_err = df_3['errore_angolo'][:11]\n",
    "x_data_2_err = df_3['errore_angolo'][11:]"
   ]
  },
  {
   "cell_type": "code",
   "execution_count": 28,
   "id": "64d31254",
   "metadata": {},
   "outputs": [
    {
     "name": "stdout",
     "output_type": "stream",
     "text": [
      "Ampiezza del I set: 0.009359, Ampiezza del II set: -0.008918\n"
     ]
    }
   ],
   "source": [
    "A1 = y_data_1[5]- y_data_1[0]\n",
    "A2 = y_data_2[16]- y_data_2[11]\n",
    "print((\"Width of the first set: %f, Width of the second set: %f\")%(A1, A2))"
   ]
  },
  {
   "cell_type": "code",
   "execution_count": 29,
   "id": "16be72a5",
   "metadata": {},
   "outputs": [],
   "source": [
    "def func(x, a, omega,c,d):\n",
    "    return a * np.sin(omega *x+c)+d"
   ]
  },
  {
   "cell_type": "markdown",
   "id": "a34417c9",
   "metadata": {},
   "source": [
    "We compute the magnetic field for both data sets and see if they are compatible"
   ]
  },
  {
   "cell_type": "code",
   "execution_count": 30,
   "id": "8cf79b58",
   "metadata": {},
   "outputs": [],
   "source": [
    "x_data_3 = np.concatenate((x_data_1,x_data_2+180), axis=None)\n",
    "y_data_3 = np.concatenate((y_data_1,(y_data_2)), axis=None)\n",
    "y_data_3_err = np.concatenate((y_data_1_err,y_data_2_err), axis=None)\n",
    "x_data_3_err = np.concatenate((x_data_1_err,x_data_2_err), axis=None)"
   ]
  },
  {
   "cell_type": "code",
   "execution_count": 31,
   "id": "2076f4d1",
   "metadata": {},
   "outputs": [
    {
     "name": "stdout",
     "output_type": "stream",
     "text": [
      "Optimal parameters are A=-0.00932187, omega=0.0173173, c =-1.56129, d =-0.00025705\n",
      "d = -0.026230 g\n"
     ]
    }
   ],
   "source": [
    "popt, pcov = optimize.curve_fit(func, x_data_3, y_data_3,sigma=y_data_3_err,p0=(1,0.016,0,1))\n",
    "a, b,c,d = popt\n",
    "print(\"Optimal parameters are A=%g, omega=%g, c =%g, d =%g\" % (a, b,c,d))\n",
    "# d is different from 0, because it may be that we have weighed the magnet incorrectly\n",
    "print((\"d = %f g\")%(d/g))"
   ]
  },
  {
   "cell_type": "markdown",
   "id": "3e649d38",
   "metadata": {},
   "source": [
    "Make manual variation of the parameters and see which one fits best."
   ]
  },
  {
   "cell_type": "code",
   "execution_count": 32,
   "id": "2dcc93a0",
   "metadata": {
    "scrolled": false
   },
   "outputs": [
    {
     "data": {
      "image/png": "[encoded data removed]",
      "text/plain": [
       "<Figure size 1152x648 with 1 Axes>"
      ]
     },
     "metadata": {},
     "output_type": "display_data"
    }
   ],
   "source": [
    "x_lista = np.arange(-100,280)\n",
    "yfitted = func(x_lista, a,b,c,d)   # equivalent to f(x, popt[0], popt[1], popt[2])\n",
    "fig, ax = plt.subplots(figsize=(16, 9))\n",
    "plt.plot(x_lista, yfitted, '-g', label='fit $f(x_i)$')\n",
    "plt.errorbar(x_data_1, y_data_1, yerr=y_data_1_err, xerr=x_data_1_err,fmt='.m',label='dati set 1')\n",
    "plt.errorbar(x_data_2+180, y_data_2, yerr=y_data_2_err, xerr=x_data_2_err,fmt='.b',label='dati set 2')\n",
    "\n",
    "y1 = func(x_lista, a,b,c,d+0.00025)\n",
    "y2 = func(x_lista, a,b,c,d-0.00025)\n",
    "y3 = func(x_lista, a+0.0002,b,c,d)\n",
    "y4 = func(x_lista, a-0.0002,b,c,d)\n",
    "y5 = func(x_lista, a,b+0.000001,c,d)\n",
    "y6 = func(x_lista, a,b-0.000001,c,d)\n",
    "y7 = func(x_lista, a,b,c+0.00018,d)\n",
    "y8 = func(x_lista, a,b,c-0.00018,d)\n",
    "#plt.plot(x_lista, y1, '-r', label='max A = 0.01015')\n",
    "#plt.plot(x_lista, y2, '-b', label='min A = 0.0096')\n",
    "plt.fill_between(x_lista, y1, y2, facecolor=\"green\", alpha=0.2)\n",
    "plt.fill_between(x_lista, y3, y4, facecolor=\"green\", alpha=0.2)\n",
    "plt.fill_between(x_lista, y5, y6, facecolor=\"green\", alpha=0.2)\n",
    "plt.fill_between(x_lista, y7, y8, facecolor=\"green\", alpha=0.2)\n",
    "\n",
    "ax.add_patch(patches.Rectangle(xy=(85, -0.001),width=10, height=0.001, linewidth=1, color='red', fill=False, \n",
    "                               label='punto in comune tra i 2 set di dati'))\n",
    "\n",
    "plt.ylabel('Forza [N]', fontsize =20)\n",
    "plt.xlabel('Angolo [°]', fontsize = 20)\n",
    "plt.legend();"
   ]
  },
  {
   "cell_type": "code",
   "execution_count": 33,
   "id": "62731979",
   "metadata": {},
   "outputs": [
    {
     "data": {
      "image/png": "[encoded data removed]",
      "text/plain": [
       "<Figure size 576x216 with 1 Axes>"
      ]
     },
     "metadata": {},
     "output_type": "display_data"
    }
   ],
   "source": [
    "fig, ax = plt.subplots(figsize=(8, 3))\n",
    "plt.title('Ricucitura e fit dei due set di dati', fontsize = 14)\n",
    "plt.errorbar(x_data_2[0:1]+180, y_data_2[0:1], yerr=y_data_2_err[0:1], xerr=x_data_2_err[0:1],fmt='.c')\n",
    "plt.errorbar(x_data_1[10:11], y_data_1[10:11], yerr=y_data_1_err[10:11], xerr=x_data_1_err[10:11],fmt='.m',label='dati set 1')\n",
    "\n",
    "plt.xlabel('x', fontsize = 10)\n",
    "plt.legend();"
   ]
  },
  {
   "cell_type": "markdown",
   "id": "a3e92fb0",
   "metadata": {},
   "source": [
    "What could be done better? We could have had a larger overlapping dataset: in this case we would have added a smaller error on more points the overlapping error is smaller.\n",
    "\n",
    "How to determine the error? In this case the observable I am looking for is the maximum Lorenz force from which I then derive the magnetic field, hence the amplitude of this sinusoid which is what I need. In this case we must determine the error of the amplitude A and the phase shift with respect to 0."
   ]
  },
  {
   "cell_type": "code",
   "execution_count": 34,
   "id": "9cd9e644",
   "metadata": {},
   "outputs": [
    {
     "name": "stdout",
     "output_type": "stream",
     "text": [
      "a = (-0.00932 +- 0.00025) N\n"
     ]
    }
   ],
   "source": [
    "print((\"a = (%.5f +- %.5f) N\")%(a,(0.00025)))"
   ]
  },
  {
   "cell_type": "markdown",
   "id": "b613aa0c",
   "metadata": {},
   "source": [
    "$F_{B} = ilBsin\\theta \\Rightarrow B = \\frac{F_{B}}{ilsin\\theta }$"
   ]
  }
 ],
 "metadata": {
  "kernelspec": {
   "display_name": "Python 3 (ipykernel)",
   "language": "python",
   "name": "python3"
  },
  "language_info": {
   "codemirror_mode": {
    "name": "ipython",
    "version": 3
   },
   "file_extension": ".py",
   "mimetype": "text/x-python",
   "name": "python",
   "nbconvert_exporter": "python",
   "pygments_lexer": "ipython3",
   "version": "3.9.7"
  }
 },
 "nbformat": 4,
 "nbformat_minor": 5
}
